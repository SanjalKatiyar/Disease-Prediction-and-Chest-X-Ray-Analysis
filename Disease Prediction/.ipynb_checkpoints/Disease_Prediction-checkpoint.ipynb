{
 "cells": [
  {
   "cell_type": "markdown",
   "metadata": {},
   "source": [
    "# Dummy"
   ]
  },
  {
   "cell_type": "code",
   "execution_count": 68,
   "metadata": {},
   "outputs": [],
   "source": [
    "import pandas as pd\n",
    "import csv\n",
    "from collections import defaultdict"
   ]
  },
  {
   "cell_type": "code",
   "execution_count": 69,
   "metadata": {},
   "outputs": [],
   "source": [
    "data = pd.read_csv(\"df_final.csv\",encoding=\"ISO-8859-1\")"
   ]
  },
  {
   "cell_type": "code",
   "execution_count": 70,
   "metadata": {},
   "outputs": [],
   "source": [
    "df = pd.DataFrame(data)"
   ]
  },
  {
   "cell_type": "code",
   "execution_count": 71,
   "metadata": {},
   "outputs": [],
   "source": [
    "import pandas as pd\n",
    "import matplotlib.pyplot as plt\n",
    "%matplotlib inline\n",
    "from sklearn.naive_bayes import MultinomialNB\n",
    "from sklearn.cross_validation import train_test_split"
   ]
  },
  {
   "cell_type": "code",
   "execution_count": 72,
   "metadata": {},
   "outputs": [
    {
     "data": {
      "text/plain": [
       "Index(['Unnamed: 0', 'Source', 'Heberden's node', 'Murphy's sign',\n",
       "       'Stahli's line', 'abdomen acute', 'abdominal bloating',\n",
       "       'abdominal tenderness', 'abnormal sensation',\n",
       "       'abnormally hard consistency',\n",
       "       ...\n",
       "       'vision blurred', 'vomiting', 'weepiness', 'weight gain', 'welt',\n",
       "       'wheelchair bound', 'wheezing', 'withdraw', 'worry', 'yellow sputum'],\n",
       "      dtype='object', length=406)"
      ]
     },
     "execution_count": 72,
     "metadata": {},
     "output_type": "execute_result"
    }
   ],
   "source": [
    "cols = df.columns\n",
    "cols"
   ]
  },
  {
   "cell_type": "code",
   "execution_count": 73,
   "metadata": {},
   "outputs": [
    {
     "data": {
      "text/plain": [
       "Index(['Heberden's node', 'Murphy's sign', 'Stahli's line', 'abdomen acute',\n",
       "       'abdominal bloating', 'abdominal tenderness', 'abnormal sensation',\n",
       "       'abnormally hard consistency', 'abortion', 'abscess bacterial',\n",
       "       ...\n",
       "       'vision blurred', 'vomiting', 'weepiness', 'weight gain', 'welt',\n",
       "       'wheelchair bound', 'wheezing', 'withdraw', 'worry', 'yellow sputum'],\n",
       "      dtype='object', length=404)"
      ]
     },
     "execution_count": 73,
     "metadata": {},
     "output_type": "execute_result"
    }
   ],
   "source": [
    "cols = cols[2:]\n",
    "cols"
   ]
  },
  {
   "cell_type": "code",
   "execution_count": 74,
   "metadata": {},
   "outputs": [],
   "source": [
    "x = df[cols]\n",
    "y = df['Source']"
   ]
  },
  {
   "cell_type": "code",
   "execution_count": 75,
   "metadata": {},
   "outputs": [],
   "source": [
    "mnb = MultinomialNB()\n",
    "mnb = mnb.fit(x,y)"
   ]
  },
  {
   "cell_type": "code",
   "execution_count": 76,
   "metadata": {},
   "outputs": [
    {
     "name": "stdout",
     "output_type": "stream",
     "text": [
      "Accuracy:  0.8986486486486487\n"
     ]
    }
   ],
   "source": [
    "print ('Accuracy: ',mnb.score(x,y))"
   ]
  },
  {
   "cell_type": "code",
   "execution_count": 77,
   "metadata": {},
   "outputs": [],
   "source": [
    "disease_prediction = mnb.predict(x)"
   ]
  },
  {
   "cell_type": "code",
   "execution_count": 78,
   "metadata": {},
   "outputs": [],
   "source": [
    "disease_real = y.values"
   ]
  },
  {
   "cell_type": "code",
   "execution_count": 79,
   "metadata": {},
   "outputs": [
    {
     "name": "stdout",
     "output_type": "stream",
     "text": [
      "Predicted value:HIV       Actual value:acquired immuno-deficiency syndrome\n",
      "Predicted value:biliary calculus       Actual value:cholelithiasis\n",
      "Predicted value:coronary arteriosclerosis       Actual value:coronary heart disease\n",
      "Predicted value:depression mental       Actual value:depressive disorder\n",
      "Predicted value:HIV       Actual value:hiv infections\n",
      "Predicted value:carcinoma breast       Actual value:malignant neoplasm of breast\n",
      "Predicted value:carcinoma of lung       Actual value:malignant neoplasm of lung\n",
      "Predicted value:carcinoma prostate       Actual value:malignant neoplasm of prostate\n",
      "Predicted value:carcinoma colon       Actual value:malignant tumor of colon\n",
      "Predicted value:candidiasis       Actual value:oralcandidiasis\n",
      "Predicted value:effusion pericardial       Actual value:pericardial effusion body substance\n",
      "Predicted value:malignant neoplasms       Actual value:primary malignant neoplasm\n",
      "Predicted value:sepsis (invertebrate)       Actual value:septicemia\n",
      "Predicted value:sepsis (invertebrate)       Actual value:systemic infection\n",
      "Predicted value:tonic-clonic epilepsy       Actual value:tonic-clonic seizures\n"
     ]
    }
   ],
   "source": [
    "for i in range(0,len(disease_real)):\n",
    "    if disease_prediction[i]!=disease_real[i]:\n",
    "        print ('Predicted value:{0}       Actual value:{1}'.format(disease_prediction[i],disease_real[i]))"
   ]
  },
  {
   "cell_type": "code",
   "execution_count": 80,
   "metadata": {},
   "outputs": [],
   "source": [
    "from sklearn.tree import DecisionTreeClassifier, export_graphviz"
   ]
  },
  {
   "cell_type": "code",
   "execution_count": 81,
   "metadata": {},
   "outputs": [
    {
     "name": "stdout",
     "output_type": "stream",
     "text": [
      "Accuracy:  0.9054054054054054\n"
     ]
    }
   ],
   "source": [
    "dt = DecisionTreeClassifier()\n",
    "clf_dt = dt.fit(x,y)\n",
    "print ('Accuracy: ',clf_dt.score(x,y))"
   ]
  },
  {
   "cell_type": "markdown",
   "metadata": {},
   "source": [
    "# Actual"
   ]
  },
  {
   "cell_type": "code",
   "execution_count": 82,
   "metadata": {},
   "outputs": [],
   "source": [
    "data1 = pd.read_csv(\"Training.csv\")"
   ]
  },
  {
   "cell_type": "code",
   "execution_count": 83,
   "metadata": {},
   "outputs": [],
   "source": [
    "df1 = pd.DataFrame(data1)"
   ]
  },
  {
   "cell_type": "code",
   "execution_count": 84,
   "metadata": {},
   "outputs": [
    {
     "data": {
      "text/html": [
       "<div>\n",
       "<style scoped>\n",
       "    .dataframe tbody tr th:only-of-type {\n",
       "        vertical-align: middle;\n",
       "    }\n",
       "\n",
       "    .dataframe tbody tr th {\n",
       "        vertical-align: top;\n",
       "    }\n",
       "\n",
       "    .dataframe thead th {\n",
       "        text-align: right;\n",
       "    }\n",
       "</style>\n",
       "<table border=\"1\" class=\"dataframe\">\n",
       "  <thead>\n",
       "    <tr style=\"text-align: right;\">\n",
       "      <th></th>\n",
       "      <th>itching</th>\n",
       "      <th>skin_rash</th>\n",
       "      <th>nodal_skin_eruptions</th>\n",
       "      <th>continuous_sneezing</th>\n",
       "      <th>shivering</th>\n",
       "      <th>chills</th>\n",
       "      <th>joint_pain</th>\n",
       "      <th>stomach_pain</th>\n",
       "      <th>acidity</th>\n",
       "      <th>ulcers_on_tongue</th>\n",
       "      <th>...</th>\n",
       "      <th>blackheads</th>\n",
       "      <th>scurring</th>\n",
       "      <th>skin_peeling</th>\n",
       "      <th>silver_like_dusting</th>\n",
       "      <th>small_dents_in_nails</th>\n",
       "      <th>inflammatory_nails</th>\n",
       "      <th>blister</th>\n",
       "      <th>red_sore_around_nose</th>\n",
       "      <th>yellow_crust_ooze</th>\n",
       "      <th>prognosis</th>\n",
       "    </tr>\n",
       "  </thead>\n",
       "  <tbody>\n",
       "    <tr>\n",
       "      <th>0</th>\n",
       "      <td>1</td>\n",
       "      <td>1</td>\n",
       "      <td>1</td>\n",
       "      <td>0</td>\n",
       "      <td>0</td>\n",
       "      <td>0</td>\n",
       "      <td>0</td>\n",
       "      <td>0</td>\n",
       "      <td>0</td>\n",
       "      <td>0</td>\n",
       "      <td>...</td>\n",
       "      <td>0</td>\n",
       "      <td>0</td>\n",
       "      <td>0</td>\n",
       "      <td>0</td>\n",
       "      <td>0</td>\n",
       "      <td>0</td>\n",
       "      <td>0</td>\n",
       "      <td>0</td>\n",
       "      <td>0</td>\n",
       "      <td>Fungal infection</td>\n",
       "    </tr>\n",
       "    <tr>\n",
       "      <th>1</th>\n",
       "      <td>0</td>\n",
       "      <td>1</td>\n",
       "      <td>1</td>\n",
       "      <td>0</td>\n",
       "      <td>0</td>\n",
       "      <td>0</td>\n",
       "      <td>0</td>\n",
       "      <td>0</td>\n",
       "      <td>0</td>\n",
       "      <td>0</td>\n",
       "      <td>...</td>\n",
       "      <td>0</td>\n",
       "      <td>0</td>\n",
       "      <td>0</td>\n",
       "      <td>0</td>\n",
       "      <td>0</td>\n",
       "      <td>0</td>\n",
       "      <td>0</td>\n",
       "      <td>0</td>\n",
       "      <td>0</td>\n",
       "      <td>Fungal infection</td>\n",
       "    </tr>\n",
       "    <tr>\n",
       "      <th>2</th>\n",
       "      <td>1</td>\n",
       "      <td>0</td>\n",
       "      <td>1</td>\n",
       "      <td>0</td>\n",
       "      <td>0</td>\n",
       "      <td>0</td>\n",
       "      <td>0</td>\n",
       "      <td>0</td>\n",
       "      <td>0</td>\n",
       "      <td>0</td>\n",
       "      <td>...</td>\n",
       "      <td>0</td>\n",
       "      <td>0</td>\n",
       "      <td>0</td>\n",
       "      <td>0</td>\n",
       "      <td>0</td>\n",
       "      <td>0</td>\n",
       "      <td>0</td>\n",
       "      <td>0</td>\n",
       "      <td>0</td>\n",
       "      <td>Fungal infection</td>\n",
       "    </tr>\n",
       "    <tr>\n",
       "      <th>3</th>\n",
       "      <td>1</td>\n",
       "      <td>1</td>\n",
       "      <td>0</td>\n",
       "      <td>0</td>\n",
       "      <td>0</td>\n",
       "      <td>0</td>\n",
       "      <td>0</td>\n",
       "      <td>0</td>\n",
       "      <td>0</td>\n",
       "      <td>0</td>\n",
       "      <td>...</td>\n",
       "      <td>0</td>\n",
       "      <td>0</td>\n",
       "      <td>0</td>\n",
       "      <td>0</td>\n",
       "      <td>0</td>\n",
       "      <td>0</td>\n",
       "      <td>0</td>\n",
       "      <td>0</td>\n",
       "      <td>0</td>\n",
       "      <td>Fungal infection</td>\n",
       "    </tr>\n",
       "    <tr>\n",
       "      <th>4</th>\n",
       "      <td>1</td>\n",
       "      <td>1</td>\n",
       "      <td>1</td>\n",
       "      <td>0</td>\n",
       "      <td>0</td>\n",
       "      <td>0</td>\n",
       "      <td>0</td>\n",
       "      <td>0</td>\n",
       "      <td>0</td>\n",
       "      <td>0</td>\n",
       "      <td>...</td>\n",
       "      <td>0</td>\n",
       "      <td>0</td>\n",
       "      <td>0</td>\n",
       "      <td>0</td>\n",
       "      <td>0</td>\n",
       "      <td>0</td>\n",
       "      <td>0</td>\n",
       "      <td>0</td>\n",
       "      <td>0</td>\n",
       "      <td>Fungal infection</td>\n",
       "    </tr>\n",
       "  </tbody>\n",
       "</table>\n",
       "<p>5 rows × 133 columns</p>\n",
       "</div>"
      ],
      "text/plain": [
       "   itching  skin_rash  nodal_skin_eruptions  continuous_sneezing  shivering  \\\n",
       "0        1          1                     1                    0          0   \n",
       "1        0          1                     1                    0          0   \n",
       "2        1          0                     1                    0          0   \n",
       "3        1          1                     0                    0          0   \n",
       "4        1          1                     1                    0          0   \n",
       "\n",
       "   chills  joint_pain  stomach_pain  acidity  ulcers_on_tongue  \\\n",
       "0       0           0             0        0                 0   \n",
       "1       0           0             0        0                 0   \n",
       "2       0           0             0        0                 0   \n",
       "3       0           0             0        0                 0   \n",
       "4       0           0             0        0                 0   \n",
       "\n",
       "         ...         blackheads  scurring  skin_peeling  silver_like_dusting  \\\n",
       "0        ...                  0         0             0                    0   \n",
       "1        ...                  0         0             0                    0   \n",
       "2        ...                  0         0             0                    0   \n",
       "3        ...                  0         0             0                    0   \n",
       "4        ...                  0         0             0                    0   \n",
       "\n",
       "   small_dents_in_nails  inflammatory_nails  blister  red_sore_around_nose  \\\n",
       "0                     0                   0        0                     0   \n",
       "1                     0                   0        0                     0   \n",
       "2                     0                   0        0                     0   \n",
       "3                     0                   0        0                     0   \n",
       "4                     0                   0        0                     0   \n",
       "\n",
       "   yellow_crust_ooze         prognosis  \n",
       "0                  0  Fungal infection  \n",
       "1                  0  Fungal infection  \n",
       "2                  0  Fungal infection  \n",
       "3                  0  Fungal infection  \n",
       "4                  0  Fungal infection  \n",
       "\n",
       "[5 rows x 133 columns]"
      ]
     },
     "execution_count": 84,
     "metadata": {},
     "output_type": "execute_result"
    }
   ],
   "source": [
    "df1.head()"
   ]
  },
  {
   "cell_type": "code",
   "execution_count": 85,
   "metadata": {},
   "outputs": [
    {
     "data": {
      "text/plain": [
       "(4920, 133)"
      ]
     },
     "execution_count": 85,
     "metadata": {},
     "output_type": "execute_result"
    }
   ],
   "source": [
    "df1.shape"
   ]
  },
  {
   "cell_type": "code",
   "execution_count": 86,
   "metadata": {},
   "outputs": [
    {
     "data": {
      "text/plain": [
       "array(['Fungal infection', 'Allergy', 'GERD', 'Chronic cholestasis',\n",
       "       'Drug Reaction', 'Peptic ulcer diseae', 'AIDS', 'Diabetes ',\n",
       "       'Gastroenteritis', 'Bronchial Asthma', 'Hypertension ', 'Migraine',\n",
       "       'Cervical spondylosis', 'Paralysis (brain hemorrhage)', 'Jaundice',\n",
       "       'Malaria', 'Chicken pox', 'Dengue', 'Typhoid', 'hepatitis A',\n",
       "       'Hepatitis B', 'Hepatitis C', 'Hepatitis D', 'Hepatitis E',\n",
       "       'Alcoholic hepatitis', 'Tuberculosis', 'Common Cold', 'Pneumonia',\n",
       "       'Dimorphic hemmorhoids(piles)', 'Heart attack', 'Varicose veins',\n",
       "       'Hypothyroidism', 'Hyperthyroidism', 'Hypoglycemia',\n",
       "       'Osteoarthristis', 'Arthritis',\n",
       "       '(vertigo) Paroymsal  Positional Vertigo', 'Acne',\n",
       "       'Urinary tract infection', 'Psoriasis', 'Impetigo'], dtype=object)"
      ]
     },
     "execution_count": 86,
     "metadata": {},
     "output_type": "execute_result"
    }
   ],
   "source": [
    "data1['prognosis'].unique()"
   ]
  },
  {
   "cell_type": "code",
   "execution_count": 87,
   "metadata": {},
   "outputs": [],
   "source": [
    "cols1 = df1.columns"
   ]
  },
  {
   "cell_type": "code",
   "execution_count": 88,
   "metadata": {},
   "outputs": [],
   "source": [
    "cols1 = cols1[:-1]"
   ]
  },
  {
   "cell_type": "code",
   "execution_count": 89,
   "metadata": {},
   "outputs": [
    {
     "name": "stdout",
     "output_type": "stream",
     "text": [
      "Index(['itching', 'skin_rash', 'nodal_skin_eruptions', 'continuous_sneezing',\n",
      "       'shivering', 'chills', 'joint_pain', 'stomach_pain', 'acidity',\n",
      "       'ulcers_on_tongue',\n",
      "       ...\n",
      "       'pus_filled_pimples', 'blackheads', 'scurring', 'skin_peeling',\n",
      "       'silver_like_dusting', 'small_dents_in_nails', 'inflammatory_nails',\n",
      "       'blister', 'red_sore_around_nose', 'yellow_crust_ooze'],\n",
      "      dtype='object', length=132)\n"
     ]
    }
   ],
   "source": [
    "print(cols1)"
   ]
  },
  {
   "cell_type": "code",
   "execution_count": 90,
   "metadata": {},
   "outputs": [
    {
     "name": "stdout",
     "output_type": "stream",
     "text": [
      "itching\n",
      "skin_rash\n",
      "nodal_skin_eruptions\n",
      "continuous_sneezing\n",
      "shivering\n",
      "chills\n",
      "joint_pain\n",
      "stomach_pain\n",
      "acidity\n",
      "ulcers_on_tongue\n",
      "muscle_wasting\n",
      "vomiting\n",
      "burning_micturition\n",
      "spotting_ urination\n",
      "fatigue\n",
      "weight_gain\n",
      "anxiety\n",
      "cold_hands_and_feets\n",
      "mood_swings\n",
      "weight_loss\n",
      "restlessness\n",
      "lethargy\n",
      "patches_in_throat\n",
      "irregular_sugar_level\n",
      "cough\n",
      "high_fever\n",
      "sunken_eyes\n",
      "breathlessness\n",
      "sweating\n",
      "dehydration\n",
      "indigestion\n",
      "headache\n",
      "yellowish_skin\n",
      "dark_urine\n",
      "nausea\n",
      "loss_of_appetite\n",
      "pain_behind_the_eyes\n",
      "back_pain\n",
      "constipation\n",
      "abdominal_pain\n",
      "diarrhoea\n",
      "mild_fever\n",
      "yellow_urine\n",
      "yellowing_of_eyes\n",
      "acute_liver_failure\n",
      "fluid_overload\n",
      "swelling_of_stomach\n",
      "swelled_lymph_nodes\n",
      "malaise\n",
      "blurred_and_distorted_vision\n",
      "phlegm\n",
      "throat_irritation\n",
      "redness_of_eyes\n",
      "sinus_pressure\n",
      "runny_nose\n",
      "congestion\n",
      "chest_pain\n",
      "weakness_in_limbs\n",
      "fast_heart_rate\n",
      "pain_during_bowel_movements\n",
      "pain_in_anal_region\n",
      "bloody_stool\n",
      "irritation_in_anus\n",
      "neck_pain\n",
      "dizziness\n",
      "cramps\n",
      "bruising\n",
      "obesity\n",
      "swollen_legs\n",
      "swollen_blood_vessels\n",
      "puffy_face_and_eyes\n",
      "enlarged_thyroid\n",
      "brittle_nails\n",
      "swollen_extremeties\n",
      "excessive_hunger\n",
      "extra_marital_contacts\n",
      "drying_and_tingling_lips\n",
      "slurred_speech\n",
      "knee_pain\n",
      "hip_joint_pain\n",
      "muscle_weakness\n",
      "stiff_neck\n",
      "swelling_joints\n",
      "movement_stiffness\n",
      "spinning_movements\n",
      "loss_of_balance\n",
      "unsteadiness\n",
      "weakness_of_one_body_side\n",
      "loss_of_smell\n",
      "bladder_discomfort\n",
      "foul_smell_of urine\n",
      "continuous_feel_of_urine\n",
      "passage_of_gases\n",
      "internal_itching\n",
      "toxic_look_(typhos)\n",
      "depression\n",
      "irritability\n",
      "muscle_pain\n",
      "altered_sensorium\n",
      "red_spots_over_body\n",
      "belly_pain\n",
      "abnormal_menstruation\n",
      "dischromic _patches\n",
      "watering_from_eyes\n",
      "increased_appetite\n",
      "polyuria\n",
      "family_history\n",
      "mucoid_sputum\n",
      "rusty_sputum\n",
      "lack_of_concentration\n",
      "visual_disturbances\n",
      "receiving_blood_transfusion\n",
      "receiving_unsterile_injections\n",
      "coma\n",
      "stomach_bleeding\n",
      "distention_of_abdomen\n",
      "history_of_alcohol_consumption\n",
      "fluid_overload.1\n",
      "blood_in_sputum\n",
      "prominent_veins_on_calf\n",
      "palpitations\n",
      "painful_walking\n",
      "pus_filled_pimples\n",
      "blackheads\n",
      "scurring\n",
      "skin_peeling\n",
      "silver_like_dusting\n",
      "small_dents_in_nails\n",
      "inflammatory_nails\n",
      "blister\n",
      "red_sore_around_nose\n",
      "yellow_crust_ooze\n"
     ]
    }
   ],
   "source": [
    "for i in range(0,132):\n",
    "    print(cols1[i])"
   ]
  },
  {
   "cell_type": "code",
   "execution_count": 91,
   "metadata": {},
   "outputs": [
    {
     "data": {
      "text/plain": [
       "132"
      ]
     },
     "execution_count": 91,
     "metadata": {},
     "output_type": "execute_result"
    }
   ],
   "source": [
    "len(cols1)\n"
   ]
  },
  {
   "cell_type": "code",
   "execution_count": 92,
   "metadata": {},
   "outputs": [
    {
     "name": "stdout",
     "output_type": "stream",
     "text": [
      "      itching  skin_rash  nodal_skin_eruptions  continuous_sneezing  \\\n",
      "0           1          1                     1                    0   \n",
      "1           0          1                     1                    0   \n",
      "2           1          0                     1                    0   \n",
      "3           1          1                     0                    0   \n",
      "4           1          1                     1                    0   \n",
      "5           0          1                     1                    0   \n",
      "6           1          0                     1                    0   \n",
      "7           1          1                     0                    0   \n",
      "8           1          1                     1                    0   \n",
      "9           1          1                     1                    0   \n",
      "10          0          0                     0                    1   \n",
      "11          0          0                     0                    0   \n",
      "12          0          0                     0                    1   \n",
      "13          0          0                     0                    1   \n",
      "14          0          0                     0                    1   \n",
      "15          0          0                     0                    0   \n",
      "16          0          0                     0                    1   \n",
      "17          0          0                     0                    1   \n",
      "18          0          0                     0                    1   \n",
      "19          0          0                     0                    1   \n",
      "20          0          0                     0                    0   \n",
      "21          0          0                     0                    0   \n",
      "22          0          0                     0                    0   \n",
      "23          0          0                     0                    0   \n",
      "24          0          0                     0                    0   \n",
      "25          0          0                     0                    0   \n",
      "26          0          0                     0                    0   \n",
      "27          0          0                     0                    0   \n",
      "28          0          0                     0                    0   \n",
      "29          0          0                     0                    0   \n",
      "...       ...        ...                   ...                  ...   \n",
      "4890        0          0                     0                    0   \n",
      "4891        0          0                     0                    0   \n",
      "4892        0          0                     0                    0   \n",
      "4893        1          0                     0                    0   \n",
      "4894        0          0                     0                    0   \n",
      "4895        1          1                     0                    0   \n",
      "4896        0          1                     0                    0   \n",
      "4897        0          0                     0                    0   \n",
      "4898        0          0                     0                    0   \n",
      "4899        1          0                     0                    0   \n",
      "4900        0          0                     0                    0   \n",
      "4901        0          0                     0                    0   \n",
      "4902        0          0                     0                    0   \n",
      "4903        0          0                     0                    0   \n",
      "4904        0          0                     0                    0   \n",
      "4905        0          0                     0                    1   \n",
      "4906        0          0                     0                    0   \n",
      "4907        0          0                     0                    0   \n",
      "4908        0          0                     0                    0   \n",
      "4909        0          0                     0                    0   \n",
      "4910        0          0                     0                    0   \n",
      "4911        0          0                     0                    0   \n",
      "4912        0          0                     0                    0   \n",
      "4913        0          0                     0                    0   \n",
      "4914        0          0                     0                    0   \n",
      "4915        0          0                     0                    0   \n",
      "4916        0          1                     0                    0   \n",
      "4917        0          0                     0                    0   \n",
      "4918        0          1                     0                    0   \n",
      "4919        0          1                     0                    0   \n",
      "\n",
      "      shivering  chills  joint_pain  stomach_pain  acidity  ulcers_on_tongue  \\\n",
      "0             0       0           0             0        0                 0   \n",
      "1             0       0           0             0        0                 0   \n",
      "2             0       0           0             0        0                 0   \n",
      "3             0       0           0             0        0                 0   \n",
      "4             0       0           0             0        0                 0   \n",
      "5             0       0           0             0        0                 0   \n",
      "6             0       0           0             0        0                 0   \n",
      "7             0       0           0             0        0                 0   \n",
      "8             0       0           0             0        0                 0   \n",
      "9             0       0           0             0        0                 0   \n",
      "10            1       1           0             0        0                 0   \n",
      "11            1       1           0             0        0                 0   \n",
      "12            0       1           0             0        0                 0   \n",
      "13            1       0           0             0        0                 0   \n",
      "14            1       1           0             0        0                 0   \n",
      "15            1       1           0             0        0                 0   \n",
      "16            0       1           0             0        0                 0   \n",
      "17            1       0           0             0        0                 0   \n",
      "18            1       1           0             0        0                 0   \n",
      "19            1       1           0             0        0                 0   \n",
      "20            0       0           0             1        1                 1   \n",
      "21            0       0           0             1        0                 1   \n",
      "22            0       0           0             1        1                 0   \n",
      "23            0       0           0             1        1                 1   \n",
      "24            0       0           0             1        1                 1   \n",
      "25            0       0           0             1        1                 1   \n",
      "26            0       0           0             0        1                 1   \n",
      "27            0       0           0             1        0                 1   \n",
      "28            0       0           0             1        1                 0   \n",
      "29            0       0           0             1        1                 1   \n",
      "...         ...     ...         ...           ...      ...               ...   \n",
      "4890          0       0           0             0        1                 0   \n",
      "4891          0       0           0             0        0                 0   \n",
      "4892          0       0           0             0        0                 0   \n",
      "4893          0       0           0             0        0                 0   \n",
      "4894          0       1           0             0        0                 0   \n",
      "4895          0       0           0             0        0                 0   \n",
      "4896          0       1           1             0        0                 0   \n",
      "4897          0       1           0             0        0                 0   \n",
      "4898          0       0           1             0        0                 0   \n",
      "4899          0       0           0             0        0                 0   \n",
      "4900          0       0           0             0        0                 0   \n",
      "4901          0       0           1             0        0                 0   \n",
      "4902          0       0           1             0        0                 0   \n",
      "4903          0       0           0             0        0                 0   \n",
      "4904          0       1           0             0        0                 0   \n",
      "4905          0       1           0             0        0                 0   \n",
      "4906          0       1           0             0        0                 0   \n",
      "4907          0       0           0             0        0                 0   \n",
      "4908          0       0           0             0        0                 0   \n",
      "4909          0       0           0             0        0                 0   \n",
      "4910          0       0           0             0        0                 0   \n",
      "4911          0       0           0             0        0                 0   \n",
      "4912          0       0           0             0        0                 0   \n",
      "4913          0       0           1             0        0                 0   \n",
      "4914          0       0           0             0        0                 0   \n",
      "4915          0       0           0             0        0                 0   \n",
      "4916          0       0           0             0        0                 0   \n",
      "4917          0       0           0             0        0                 0   \n",
      "4918          0       0           1             0        0                 0   \n",
      "4919          0       0           0             0        0                 0   \n",
      "\n",
      "            ...          pus_filled_pimples  blackheads  scurring  \\\n",
      "0           ...                           0           0         0   \n",
      "1           ...                           0           0         0   \n",
      "2           ...                           0           0         0   \n",
      "3           ...                           0           0         0   \n",
      "4           ...                           0           0         0   \n",
      "5           ...                           0           0         0   \n",
      "6           ...                           0           0         0   \n",
      "7           ...                           0           0         0   \n",
      "8           ...                           0           0         0   \n",
      "9           ...                           0           0         0   \n",
      "10          ...                           0           0         0   \n",
      "11          ...                           0           0         0   \n",
      "12          ...                           0           0         0   \n",
      "13          ...                           0           0         0   \n",
      "14          ...                           0           0         0   \n",
      "15          ...                           0           0         0   \n",
      "16          ...                           0           0         0   \n",
      "17          ...                           0           0         0   \n",
      "18          ...                           0           0         0   \n",
      "19          ...                           0           0         0   \n",
      "20          ...                           0           0         0   \n",
      "21          ...                           0           0         0   \n",
      "22          ...                           0           0         0   \n",
      "23          ...                           0           0         0   \n",
      "24          ...                           0           0         0   \n",
      "25          ...                           0           0         0   \n",
      "26          ...                           0           0         0   \n",
      "27          ...                           0           0         0   \n",
      "28          ...                           0           0         0   \n",
      "29          ...                           0           0         0   \n",
      "...         ...                         ...         ...       ...   \n",
      "4890        ...                           0           0         0   \n",
      "4891        ...                           0           0         0   \n",
      "4892        ...                           0           0         0   \n",
      "4893        ...                           0           0         0   \n",
      "4894        ...                           0           0         0   \n",
      "4895        ...                           0           0         0   \n",
      "4896        ...                           0           0         0   \n",
      "4897        ...                           0           0         0   \n",
      "4898        ...                           0           0         0   \n",
      "4899        ...                           0           0         0   \n",
      "4900        ...                           0           0         0   \n",
      "4901        ...                           0           0         0   \n",
      "4902        ...                           0           0         0   \n",
      "4903        ...                           0           0         0   \n",
      "4904        ...                           0           0         0   \n",
      "4905        ...                           0           0         0   \n",
      "4906        ...                           0           0         0   \n",
      "4907        ...                           0           0         0   \n",
      "4908        ...                           0           0         0   \n",
      "4909        ...                           0           0         0   \n",
      "4910        ...                           0           0         0   \n",
      "4911        ...                           0           0         0   \n",
      "4912        ...                           0           0         0   \n",
      "4913        ...                           0           0         0   \n",
      "4914        ...                           0           0         0   \n",
      "4915        ...                           0           0         0   \n",
      "4916        ...                           1           1         1   \n",
      "4917        ...                           0           0         0   \n",
      "4918        ...                           0           0         0   \n",
      "4919        ...                           0           0         0   \n",
      "\n",
      "      skin_peeling  silver_like_dusting  small_dents_in_nails  \\\n",
      "0                0                    0                     0   \n",
      "1                0                    0                     0   \n",
      "2                0                    0                     0   \n",
      "3                0                    0                     0   \n",
      "4                0                    0                     0   \n",
      "5                0                    0                     0   \n",
      "6                0                    0                     0   \n",
      "7                0                    0                     0   \n",
      "8                0                    0                     0   \n",
      "9                0                    0                     0   \n",
      "10               0                    0                     0   \n",
      "11               0                    0                     0   \n",
      "12               0                    0                     0   \n",
      "13               0                    0                     0   \n",
      "14               0                    0                     0   \n",
      "15               0                    0                     0   \n",
      "16               0                    0                     0   \n",
      "17               0                    0                     0   \n",
      "18               0                    0                     0   \n",
      "19               0                    0                     0   \n",
      "20               0                    0                     0   \n",
      "21               0                    0                     0   \n",
      "22               0                    0                     0   \n",
      "23               0                    0                     0   \n",
      "24               0                    0                     0   \n",
      "25               0                    0                     0   \n",
      "26               0                    0                     0   \n",
      "27               0                    0                     0   \n",
      "28               0                    0                     0   \n",
      "29               0                    0                     0   \n",
      "...            ...                  ...                   ...   \n",
      "4890             0                    0                     0   \n",
      "4891             0                    0                     0   \n",
      "4892             0                    0                     0   \n",
      "4893             0                    0                     0   \n",
      "4894             0                    0                     0   \n",
      "4895             0                    0                     0   \n",
      "4896             0                    0                     0   \n",
      "4897             0                    0                     0   \n",
      "4898             0                    0                     0   \n",
      "4899             0                    0                     0   \n",
      "4900             0                    0                     0   \n",
      "4901             0                    0                     0   \n",
      "4902             0                    0                     0   \n",
      "4903             0                    0                     0   \n",
      "4904             0                    0                     0   \n",
      "4905             0                    0                     0   \n",
      "4906             0                    0                     0   \n",
      "4907             0                    0                     0   \n",
      "4908             0                    0                     0   \n",
      "4909             0                    0                     0   \n",
      "4910             0                    0                     0   \n",
      "4911             0                    0                     0   \n",
      "4912             0                    0                     0   \n",
      "4913             0                    0                     0   \n",
      "4914             0                    0                     0   \n",
      "4915             0                    0                     0   \n",
      "4916             0                    0                     0   \n",
      "4917             0                    0                     0   \n",
      "4918             1                    1                     1   \n",
      "4919             0                    0                     0   \n",
      "\n",
      "      inflammatory_nails  blister  red_sore_around_nose  yellow_crust_ooze  \n",
      "0                      0        0                     0                  0  \n",
      "1                      0        0                     0                  0  \n",
      "2                      0        0                     0                  0  \n",
      "3                      0        0                     0                  0  \n",
      "4                      0        0                     0                  0  \n",
      "5                      0        0                     0                  0  \n",
      "6                      0        0                     0                  0  \n",
      "7                      0        0                     0                  0  \n",
      "8                      0        0                     0                  0  \n",
      "9                      0        0                     0                  0  \n",
      "10                     0        0                     0                  0  \n",
      "11                     0        0                     0                  0  \n",
      "12                     0        0                     0                  0  \n",
      "13                     0        0                     0                  0  \n",
      "14                     0        0                     0                  0  \n",
      "15                     0        0                     0                  0  \n",
      "16                     0        0                     0                  0  \n",
      "17                     0        0                     0                  0  \n",
      "18                     0        0                     0                  0  \n",
      "19                     0        0                     0                  0  \n",
      "20                     0        0                     0                  0  \n",
      "21                     0        0                     0                  0  \n",
      "22                     0        0                     0                  0  \n",
      "23                     0        0                     0                  0  \n",
      "24                     0        0                     0                  0  \n",
      "25                     0        0                     0                  0  \n",
      "26                     0        0                     0                  0  \n",
      "27                     0        0                     0                  0  \n",
      "28                     0        0                     0                  0  \n",
      "29                     0        0                     0                  0  \n",
      "...                  ...      ...                   ...                ...  \n",
      "4890                   0        0                     0                  0  \n",
      "4891                   0        0                     0                  0  \n",
      "4892                   0        0                     0                  0  \n",
      "4893                   0        0                     0                  0  \n",
      "4894                   0        0                     0                  0  \n",
      "4895                   0        0                     0                  0  \n",
      "4896                   0        0                     0                  0  \n",
      "4897                   0        0                     0                  0  \n",
      "4898                   0        0                     0                  0  \n",
      "4899                   0        0                     0                  0  \n",
      "4900                   0        0                     0                  0  \n",
      "4901                   0        0                     0                  0  \n",
      "4902                   0        0                     0                  0  \n",
      "4903                   0        0                     0                  0  \n",
      "4904                   0        0                     0                  0  \n",
      "4905                   0        0                     0                  0  \n",
      "4906                   0        0                     0                  0  \n",
      "4907                   0        0                     0                  0  \n",
      "4908                   0        0                     0                  0  \n",
      "4909                   0        0                     0                  0  \n",
      "4910                   0        0                     0                  0  \n",
      "4911                   0        0                     0                  0  \n",
      "4912                   0        0                     0                  0  \n",
      "4913                   0        0                     0                  0  \n",
      "4914                   0        0                     0                  0  \n",
      "4915                   0        0                     0                  0  \n",
      "4916                   0        0                     0                  0  \n",
      "4917                   0        0                     0                  0  \n",
      "4918                   1        0                     0                  0  \n",
      "4919                   0        1                     1                  1  \n",
      "\n",
      "[4920 rows x 132 columns]\n",
      "0                              Fungal infection\n",
      "1                              Fungal infection\n",
      "2                              Fungal infection\n",
      "3                              Fungal infection\n",
      "4                              Fungal infection\n",
      "5                              Fungal infection\n",
      "6                              Fungal infection\n",
      "7                              Fungal infection\n",
      "8                              Fungal infection\n",
      "9                              Fungal infection\n",
      "10                                      Allergy\n",
      "11                                      Allergy\n",
      "12                                      Allergy\n",
      "13                                      Allergy\n",
      "14                                      Allergy\n",
      "15                                      Allergy\n",
      "16                                      Allergy\n",
      "17                                      Allergy\n",
      "18                                      Allergy\n",
      "19                                      Allergy\n",
      "20                                         GERD\n",
      "21                                         GERD\n",
      "22                                         GERD\n",
      "23                                         GERD\n",
      "24                                         GERD\n",
      "25                                         GERD\n",
      "26                                         GERD\n",
      "27                                         GERD\n",
      "28                                         GERD\n",
      "29                                         GERD\n",
      "                         ...                   \n",
      "4890                                   Migraine\n",
      "4891                       Cervical spondylosis\n",
      "4892               Paralysis (brain hemorrhage)\n",
      "4893                                   Jaundice\n",
      "4894                                    Malaria\n",
      "4895                                Chicken pox\n",
      "4896                                     Dengue\n",
      "4897                                    Typhoid\n",
      "4898                                hepatitis A\n",
      "4899                                Hepatitis B\n",
      "4900                                Hepatitis C\n",
      "4901                                Hepatitis D\n",
      "4902                                Hepatitis E\n",
      "4903                        Alcoholic hepatitis\n",
      "4904                               Tuberculosis\n",
      "4905                                Common Cold\n",
      "4906                                  Pneumonia\n",
      "4907               Dimorphic hemmorhoids(piles)\n",
      "4908                               Heart attack\n",
      "4909                             Varicose veins\n",
      "4910                             Hypothyroidism\n",
      "4911                            Hyperthyroidism\n",
      "4912                               Hypoglycemia\n",
      "4913                            Osteoarthristis\n",
      "4914                                  Arthritis\n",
      "4915    (vertigo) Paroymsal  Positional Vertigo\n",
      "4916                                       Acne\n",
      "4917                    Urinary tract infection\n",
      "4918                                  Psoriasis\n",
      "4919                                   Impetigo\n",
      "Name: prognosis, Length: 4920, dtype: object\n"
     ]
    }
   ],
   "source": [
    "x = df1[cols1]\n",
    "y = df1['prognosis']\n",
    "print (x)\n",
    "print (y)"
   ]
  },
  {
   "cell_type": "code",
   "execution_count": 93,
   "metadata": {},
   "outputs": [],
   "source": [
    "import pandas as pd\n",
    "import matplotlib.pyplot as plt\n",
    "%matplotlib inline\n",
    "from sklearn.naive_bayes import MultinomialNB\n",
    "from sklearn.cross_validation import train_test_split"
   ]
  },
  {
   "cell_type": "code",
   "execution_count": 94,
   "metadata": {},
   "outputs": [],
   "source": [
    "x_train, x_test, y_train, y_test = train_test_split(x,y,test_size=0.33,random_state=42)"
   ]
  },
  {
   "cell_type": "code",
   "execution_count": 95,
   "metadata": {},
   "outputs": [
    {
     "data": {
      "text/plain": [
       "3296"
      ]
     },
     "execution_count": 95,
     "metadata": {},
     "output_type": "execute_result"
    }
   ],
   "source": [
    "len(x_train)"
   ]
  },
  {
   "cell_type": "code",
   "execution_count": 96,
   "metadata": {},
   "outputs": [
    {
     "data": {
      "text/plain": [
       "1.0"
      ]
     },
     "execution_count": 96,
     "metadata": {},
     "output_type": "execute_result"
    }
   ],
   "source": [
    "mnb = MultinomialNB()\n",
    "mnb = mnb.fit(x_train, y_train)\n",
    "mnb.score(x_test, y_test)"
   ]
  },
  {
   "cell_type": "code",
   "execution_count": 97,
   "metadata": {},
   "outputs": [
    {
     "name": "stdout",
     "output_type": "stream",
     "text": [
      "cross_result=====\n",
      "[1. 1. 1.]\n",
      "1.0\n"
     ]
    }
   ],
   "source": [
    "from sklearn import cross_validation\n",
    "print (\"cross_result=====\")\n",
    "scores = cross_validation.cross_val_score(mnb,x_test,y_test, cv=3)\n",
    "print (scores)\n",
    "print (scores.mean())"
   ]
  },
  {
   "cell_type": "code",
   "execution_count": 98,
   "metadata": {},
   "outputs": [],
   "source": [
    "from sklearn.tree import DecisionTreeClassifier, export_graphviz\n",
    "x_train, x_test, y_train, y_test = train_test_split(x, y, test_size=0.33, random_state=42)"
   ]
  },
  {
   "cell_type": "code",
   "execution_count": 99,
   "metadata": {},
   "outputs": [
    {
     "name": "stdout",
     "output_type": "stream",
     "text": [
      "Decision Tree\n",
      "Acurracy:  1.0\n"
     ]
    }
   ],
   "source": [
    "print  (\"Decision Tree\")\n",
    "dt = DecisionTreeClassifier()\n",
    "clf_dt=dt.fit(x_train,y_train)\n",
    "print (\"Acurracy: \",clf_dt.score(x_test,y_test))"
   ]
  },
  {
   "cell_type": "code",
   "execution_count": 100,
   "metadata": {},
   "outputs": [
    {
     "name": "stdout",
     "output_type": "stream",
     "text": [
      "cross result========\n",
      "[0.97841727 0.974122   0.97912713]\n",
      "0.9772221324050169\n"
     ]
    }
   ],
   "source": [
    "from sklearn import cross_validation\n",
    "print (\"cross result========\")\n",
    "scores = cross_validation.cross_val_score(dt, x_test, y_test, cv=3)\n",
    "print (scores)\n",
    "print (scores.mean())"
   ]
  },
  {
   "cell_type": "code",
   "execution_count": 101,
   "metadata": {},
   "outputs": [
    {
     "data": {
      "text/plain": [
       "DecisionTreeClassifier(class_weight=None, criterion='gini', max_depth=None,\n",
       "            max_features=None, max_leaf_nodes=None,\n",
       "            min_impurity_decrease=0.0, min_impurity_split=None,\n",
       "            min_samples_leaf=1, min_samples_split=2,\n",
       "            min_weight_fraction_leaf=0.0, presort=False, random_state=None,\n",
       "            splitter='best')"
      ]
     },
     "execution_count": 101,
     "metadata": {},
     "output_type": "execute_result"
    }
   ],
   "source": [
    "clf_dt"
   ]
  },
  {
   "cell_type": "code",
   "execution_count": 102,
   "metadata": {},
   "outputs": [],
   "source": [
    "import pickle"
   ]
  },
  {
   "cell_type": "code",
   "execution_count": 103,
   "metadata": {},
   "outputs": [],
   "source": [
    "filename = 'finalized_model.sav'\n",
    "pickle.dump(clf_dt, open(filename, 'wb'))"
   ]
  },
  {
   "cell_type": "markdown",
   "metadata": {},
   "source": [
    "# Testing Flask"
   ]
  },
  {
   "cell_type": "code",
   "execution_count": 104,
   "metadata": {},
   "outputs": [
    {
     "data": {
      "text/plain": [
       "pandas.core.frame.DataFrame"
      ]
     },
     "execution_count": 104,
     "metadata": {},
     "output_type": "execute_result"
    }
   ],
   "source": [
    "type(df1)"
   ]
  },
  {
   "cell_type": "code",
   "execution_count": 105,
   "metadata": {},
   "outputs": [
    {
     "data": {
      "text/plain": [
       "itching                                          1\n",
       "skin_rash                                        1\n",
       "nodal_skin_eruptions                             1\n",
       "continuous_sneezing                              0\n",
       "shivering                                        0\n",
       "chills                                           0\n",
       "joint_pain                                       0\n",
       "stomach_pain                                     0\n",
       "acidity                                          0\n",
       "ulcers_on_tongue                                 0\n",
       "muscle_wasting                                   0\n",
       "vomiting                                         0\n",
       "burning_micturition                              0\n",
       "spotting_ urination                              0\n",
       "fatigue                                          0\n",
       "weight_gain                                      0\n",
       "anxiety                                          0\n",
       "cold_hands_and_feets                             0\n",
       "mood_swings                                      0\n",
       "weight_loss                                      0\n",
       "restlessness                                     0\n",
       "lethargy                                         0\n",
       "patches_in_throat                                0\n",
       "irregular_sugar_level                            0\n",
       "cough                                            0\n",
       "high_fever                                       0\n",
       "sunken_eyes                                      0\n",
       "breathlessness                                   0\n",
       "sweating                                         0\n",
       "dehydration                                      0\n",
       "                                        ...       \n",
       "watering_from_eyes                               0\n",
       "increased_appetite                               0\n",
       "polyuria                                         0\n",
       "family_history                                   0\n",
       "mucoid_sputum                                    0\n",
       "rusty_sputum                                     0\n",
       "lack_of_concentration                            0\n",
       "visual_disturbances                              0\n",
       "receiving_blood_transfusion                      0\n",
       "receiving_unsterile_injections                   0\n",
       "coma                                             0\n",
       "stomach_bleeding                                 0\n",
       "distention_of_abdomen                            0\n",
       "history_of_alcohol_consumption                   0\n",
       "fluid_overload.1                                 0\n",
       "blood_in_sputum                                  0\n",
       "prominent_veins_on_calf                          0\n",
       "palpitations                                     0\n",
       "painful_walking                                  0\n",
       "pus_filled_pimples                               0\n",
       "blackheads                                       0\n",
       "scurring                                         0\n",
       "skin_peeling                                     0\n",
       "silver_like_dusting                              0\n",
       "small_dents_in_nails                             0\n",
       "inflammatory_nails                               0\n",
       "blister                                          0\n",
       "red_sore_around_nose                             0\n",
       "yellow_crust_ooze                                0\n",
       "prognosis                         Fungal infection\n",
       "Name: 0, Length: 133, dtype: object"
      ]
     },
     "execution_count": 105,
     "metadata": {},
     "output_type": "execute_result"
    }
   ],
   "source": [
    "df1.iloc[0]"
   ]
  },
  {
   "cell_type": "code",
   "execution_count": 106,
   "metadata": {},
   "outputs": [
    {
     "name": "stdout",
     "output_type": "stream",
     "text": [
      "111000000000000000000000000000000000000000000000000000000000000000000000000000000000000000000000000000100000000000000000000000000000"
     ]
    }
   ],
   "source": [
    "for i in range(0,132):\n",
    "    print(df1.iloc[0][i],end=\"\")"
   ]
  },
  {
   "cell_type": "code",
   "execution_count": 107,
   "metadata": {},
   "outputs": [],
   "source": [
    "symptoms=\"111000000000000000000000000000000000000000000000000000000000000000000000000000000000000000000000000000100000000000000000000000000000\""
   ]
  },
  {
   "cell_type": "code",
   "execution_count": 108,
   "metadata": {},
   "outputs": [
    {
     "name": "stdout",
     "output_type": "stream",
     "text": [
      "1\n"
     ]
    }
   ],
   "source": [
    "print(symptoms[0])"
   ]
  },
  {
   "cell_type": "code",
   "execution_count": 109,
   "metadata": {},
   "outputs": [],
   "source": [
    "arr=[]\n",
    "for i in range(0,132):\n",
    "    arr.append(int(symptoms[i]))"
   ]
  },
  {
   "cell_type": "code",
   "execution_count": 110,
   "metadata": {},
   "outputs": [
    {
     "name": "stdout",
     "output_type": "stream",
     "text": [
      "[1, 1, 1, 0, 0, 0, 0, 0, 0, 0, 0, 0, 0, 0, 0, 0, 0, 0, 0, 0, 0, 0, 0, 0, 0, 0, 0, 0, 0, 0, 0, 0, 0, 0, 0, 0, 0, 0, 0, 0, 0, 0, 0, 0, 0, 0, 0, 0, 0, 0, 0, 0, 0, 0, 0, 0, 0, 0, 0, 0, 0, 0, 0, 0, 0, 0, 0, 0, 0, 0, 0, 0, 0, 0, 0, 0, 0, 0, 0, 0, 0, 0, 0, 0, 0, 0, 0, 0, 0, 0, 0, 0, 0, 0, 0, 0, 0, 0, 0, 0, 0, 0, 1, 0, 0, 0, 0, 0, 0, 0, 0, 0, 0, 0, 0, 0, 0, 0, 0, 0, 0, 0, 0, 0, 0, 0, 0, 0, 0, 0, 0, 0]\n"
     ]
    }
   ],
   "source": [
    "print(arr)"
   ]
  },
  {
   "cell_type": "code",
   "execution_count": 113,
   "metadata": {},
   "outputs": [
    {
     "data": {
      "text/plain": [
       "'Fungal infection'"
      ]
     },
     "execution_count": 113,
     "metadata": {},
     "output_type": "execute_result"
    }
   ],
   "source": [
    "clf_dt.predict([arr])[0]"
   ]
  }
 ],
 "metadata": {
  "kernelspec": {
   "display_name": "Python 3",
   "language": "python",
   "name": "python3"
  },
  "language_info": {
   "codemirror_mode": {
    "name": "ipython",
    "version": 3
   },
   "file_extension": ".py",
   "mimetype": "text/x-python",
   "name": "python",
   "nbconvert_exporter": "python",
   "pygments_lexer": "ipython3",
   "version": "3.5.5"
  }
 },
 "nbformat": 4,
 "nbformat_minor": 2
}
